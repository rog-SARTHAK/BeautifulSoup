{
 "cells": [
  {
   "cell_type": "code",
   "execution_count": 1,
   "id": "ad55ffc0",
   "metadata": {},
   "outputs": [
    {
     "name": "stdout",
     "output_type": "stream",
     "text": [
      "Requirement already satisfied: beautifulsoup4 in c:\\my files\\anaconda\\lib\\site-packages (4.9.3)\n",
      "Requirement already satisfied: soupsieve>1.2 in c:\\my files\\anaconda\\lib\\site-packages (from beautifulsoup4) (2.2.1)\n"
     ]
    }
   ],
   "source": [
    "!pip install beautifulsoup4"
   ]
  },
  {
   "cell_type": "code",
   "execution_count": 2,
   "id": "c2773e4c",
   "metadata": {},
   "outputs": [],
   "source": [
    "from bs4 import BeautifulSoup"
   ]
  },
  {
   "cell_type": "code",
   "execution_count": 5,
   "id": "66273ad1",
   "metadata": {},
   "outputs": [],
   "source": [
    "import requests\n",
    "url = \"https://cs.arizona.edu/about/faculty\"\n",
    "result = requests.get(url) #return page content\n",
    "doc = BeautifulSoup(result.text, \"html.parser\")"
   ]
  },
  {
   "cell_type": "code",
   "execution_count": 32,
   "id": "0d52f7f6",
   "metadata": {},
   "outputs": [],
   "source": [
    "#print(doc.prettify())"
   ]
  },
  {
   "cell_type": "markdown",
   "id": "af6663a5",
   "metadata": {},
   "source": [
    "Element picker on Inspect page and hover to a name"
   ]
  },
  {
   "cell_type": "code",
   "execution_count": 7,
   "id": "cf8bacd5",
   "metadata": {},
   "outputs": [
    {
     "name": "stdout",
     "output_type": "stream",
     "text": [
      "<h3 class=\"h5 mt-0\"><a href=\"/person/eric-anson\">Eric Anson</a></h3>\n"
     ]
    }
   ],
   "source": [
    "#just prints the content of first matching tag \n",
    "tag = doc.h3\n",
    "print(tag)"
   ]
  },
  {
   "cell_type": "code",
   "execution_count": 8,
   "id": "8f68a0af",
   "metadata": {},
   "outputs": [
    {
     "name": "stdout",
     "output_type": "stream",
     "text": [
      "Eric Anson\n"
     ]
    }
   ],
   "source": [
    "tag = doc.h3\n",
    "print(tag.string)"
   ]
  },
  {
   "cell_type": "code",
   "execution_count": 14,
   "id": "752c870b",
   "metadata": {},
   "outputs": [
    {
     "name": "stdout",
     "output_type": "stream",
     "text": [
      "Eric Anson\n"
     ]
    }
   ],
   "source": [
    "tag = doc.find(\"h3\")\n",
    "print(tag.string)"
   ]
  },
  {
   "cell_type": "code",
   "execution_count": 12,
   "id": "565fd94a",
   "metadata": {},
   "outputs": [
    {
     "name": "stdout",
     "output_type": "stream",
     "text": [
      "[<h3 class=\"h5 mt-0\"><a href=\"/person/eric-anson\">Eric Anson</a></h3>, <h3 class=\"h5 mt-0\"><a href=\"/person/kobus-barnard\">Kobus Barnard</a></h3>, <h3 class=\"h5 mt-0\"><a href=\"/person/eduardo-blanco\">Eduardo  Blanco</a></h3>, <h3 class=\"h5 mt-0\"><a href=\"/person/lei-cao\">Lei  Cao</a></h3>, <h3 class=\"h5 mt-0\"><a href=\"/person/david-claveau\">David Claveau</a></h3>, <h3 class=\"h5 mt-0\"><a href=\"/person/christian-collberg\">Christian  Collberg</a></h3>, <h3 class=\"h5 mt-0\"><a href=\"/person/saumya-debray\">Saumya Debray</a></h3>, <h3 class=\"h5 mt-0\"><a href=\"/person/benjamin-dicken\">Benjamin Dicken</a></h3>, <h3 class=\"h5 mt-0\"><a href=\"/person/alon-efrat\">Alon Efrat</a></h3>, <h3 class=\"h5 mt-0\"><a href=\"/person/mark-fischer\">Mark Fischer</a></h3>, <h3 class=\"h5 mt-0\"><a href=\"/person/kwang-sung-jun\">Kwang-Sung Jun</a></h3>, <h3 class=\"h5 mt-0\"><a href=\"/person/john-kececioglu\">John  Kececioglu</a></h3>, <h3 class=\"h5 mt-0\"><a href=\"/person/stephen-kobourov\">Stephen Kobourov</a></h3>, <h3 class=\"h5 mt-0\"><a href=\"/person/josh-levine\">Josh Levine</a></h3>, <h3 class=\"h5 mt-0\"><a href=\"/person/russell-lewis\">Russell Lewis</a></h3>, <h3 class=\"h5 mt-0\"><a href=\"/person/melanie-lotz\">Melanie Lotz</a></h3>, <h3 class=\"h5 mt-0\"><a href=\"/person/david-lowenthal\">David Lowenthal</a></h3>, <h3 class=\"h5 mt-0\"><a href=\"/person/lester-i-mccann\">Lester I. McCann</a></h3>, <h3 class=\"h5 mt-0\"><a href=\"/person/rick-mercer\">Rick Mercer</a></h3>, <h3 class=\"h5 mt-0\"><a href=\"/person/william-mitchell\">William Mitchell</a></h3>, <h3 class=\"h5 mt-0\"><a href=\"/person/janalee-obagy-0\">Janalee O'bagy</a></h3>, <h3 class=\"h5 mt-0\"><a href=\"/person/jason-pacheco\">Jason Pacheco</a></h3>, <h3 class=\"h5 mt-0\"><a href=\"/person/adriana-picoral\">Adriana Picoral</a></h3>, <h3 class=\"h5 mt-0\"><a href=\"/person/todd-proebsting\">Todd Proebsting</a></h3>, <h3 class=\"h5 mt-0\"><a href=\"/person/sazzadur-rahaman\">Sazzadur Rahaman</a></h3>, <h3 class=\"h5 mt-0\"><a href=\"/person/ravi-sethi\">Ravi Sethi</a></h3>, <h3 class=\"h5 mt-0\"><a href=\"/person/michelle-strout\">Michelle Strout</a></h3>, <h3 class=\"h5 mt-0\"><a href=\"/person/mihai-surdeanu\">Mihai  Surdeanu</a></h3>, <h3 class=\"h5 mt-0\"><a href=\"/person/beichuan-zhang\">Beichuan Zhang</a></h3>, <h3 class=\"h5 mt-0\"><a href=\"/person/chicheng-zhang\">Chicheng  Zhang</a></h3>]\n"
     ]
    }
   ],
   "source": [
    "tags = doc.find_all(\"h3\")\n",
    "print(tags)"
   ]
  },
  {
   "cell_type": "code",
   "execution_count": 15,
   "id": "ce685222",
   "metadata": {},
   "outputs": [],
   "source": [
    "name = doc.find_all(class_=\"h5 mt-0\")"
   ]
  },
  {
   "cell_type": "code",
   "execution_count": 16,
   "id": "85cae02a",
   "metadata": {},
   "outputs": [
    {
     "name": "stdout",
     "output_type": "stream",
     "text": [
      "<h3 class=\"h5 mt-0\"><a href=\"/person/eric-anson\">Eric Anson</a></h3>\n"
     ]
    }
   ],
   "source": [
    "print(name[0])"
   ]
  },
  {
   "cell_type": "code",
   "execution_count": 18,
   "id": "881c6e72",
   "metadata": {},
   "outputs": [
    {
     "name": "stdout",
     "output_type": "stream",
     "text": [
      "<h3 class=\"h5 mt-0\"><a href=\"/person/kobus-barnard\">Kobus Barnard</a></h3>\n"
     ]
    }
   ],
   "source": [
    "print(name[1])"
   ]
  },
  {
   "cell_type": "code",
   "execution_count": 21,
   "id": "25978e65",
   "metadata": {},
   "outputs": [
    {
     "name": "stdout",
     "output_type": "stream",
     "text": [
      "30\n"
     ]
    }
   ],
   "source": [
    "print(len(name))"
   ]
  },
  {
   "cell_type": "code",
   "execution_count": 22,
   "id": "f82d7311",
   "metadata": {},
   "outputs": [
    {
     "name": "stdout",
     "output_type": "stream",
     "text": [
      "Eric Anson\n"
     ]
    }
   ],
   "source": [
    "faculty = name[0]\n",
    "tag_1 = faculty.find(\"a\")\n",
    "print (tag_1.string)"
   ]
  },
  {
   "cell_type": "code",
   "execution_count": 27,
   "id": "3dcb9c4f",
   "metadata": {},
   "outputs": [
    {
     "name": "stdout",
     "output_type": "stream",
     "text": [
      "Eric Anson\n",
      "Kobus Barnard\n",
      "Eduardo  Blanco\n",
      "Lei  Cao\n",
      "David Claveau\n",
      "Christian  Collberg\n",
      "Saumya Debray\n",
      "Benjamin Dicken\n",
      "Alon Efrat\n",
      "Mark Fischer\n",
      "Kwang-Sung Jun\n",
      "John  Kececioglu\n",
      "Stephen Kobourov\n",
      "Josh Levine\n",
      "Russell Lewis\n",
      "Melanie Lotz\n",
      "David Lowenthal\n",
      "Lester I. McCann\n",
      "Rick Mercer\n",
      "William Mitchell\n",
      "Janalee O'bagy\n",
      "Jason Pacheco\n",
      "Adriana Picoral\n",
      "Todd Proebsting\n",
      "Sazzadur Rahaman\n",
      "Ravi Sethi\n",
      "Michelle Strout\n",
      "Mihai  Surdeanu\n",
      "Beichuan Zhang\n",
      "Chicheng  Zhang\n"
     ]
    }
   ],
   "source": [
    "faculty_list = []\n",
    "\n",
    "for i in range(len(name)):\n",
    "    faculty = name[i]\n",
    "    tags = faculty.find(\"a\")\n",
    "    faculty_list.append(tags.string)\n",
    "print(*faculty_list, sep =\"\\n\")"
   ]
  },
  {
   "cell_type": "code",
   "execution_count": 28,
   "id": "b7d253b8",
   "metadata": {},
   "outputs": [
    {
     "data": {
      "text/plain": [
       "[('Eric Anson',),\n",
       " ('Kobus Barnard',),\n",
       " ('Eduardo  Blanco',),\n",
       " ('Lei  Cao',),\n",
       " ('David Claveau',),\n",
       " ('Christian  Collberg',),\n",
       " ('Saumya Debray',),\n",
       " ('Benjamin Dicken',),\n",
       " ('Alon Efrat',),\n",
       " ('Mark Fischer',),\n",
       " ('Kwang-Sung Jun',),\n",
       " ('John  Kececioglu',),\n",
       " ('Stephen Kobourov',),\n",
       " ('Josh Levine',),\n",
       " ('Russell Lewis',),\n",
       " ('Melanie Lotz',),\n",
       " ('David Lowenthal',),\n",
       " ('Lester I. McCann',),\n",
       " ('Rick Mercer',),\n",
       " ('William Mitchell',),\n",
       " (\"Janalee O'bagy\",),\n",
       " ('Jason Pacheco',),\n",
       " ('Adriana Picoral',),\n",
       " ('Todd Proebsting',),\n",
       " ('Sazzadur Rahaman',),\n",
       " ('Ravi Sethi',),\n",
       " ('Michelle Strout',),\n",
       " ('Mihai  Surdeanu',),\n",
       " ('Beichuan Zhang',),\n",
       " ('Chicheng  Zhang',)]"
      ]
     },
     "execution_count": 28,
     "metadata": {},
     "output_type": "execute_result"
    }
   ],
   "source": [
    "name_zip = list(zip(faculty_list))\n",
    "name_zip"
   ]
  },
  {
   "cell_type": "code",
   "execution_count": 29,
   "id": "ebf5f3fd",
   "metadata": {},
   "outputs": [
    {
     "data": {
      "text/html": [
       "<div>\n",
       "<style scoped>\n",
       "    .dataframe tbody tr th:only-of-type {\n",
       "        vertical-align: middle;\n",
       "    }\n",
       "\n",
       "    .dataframe tbody tr th {\n",
       "        vertical-align: top;\n",
       "    }\n",
       "\n",
       "    .dataframe thead th {\n",
       "        text-align: right;\n",
       "    }\n",
       "</style>\n",
       "<table border=\"1\" class=\"dataframe\">\n",
       "  <thead>\n",
       "    <tr style=\"text-align: right;\">\n",
       "      <th></th>\n",
       "      <th>name</th>\n",
       "    </tr>\n",
       "  </thead>\n",
       "  <tbody>\n",
       "    <tr>\n",
       "      <th>0</th>\n",
       "      <td>Eric Anson</td>\n",
       "    </tr>\n",
       "    <tr>\n",
       "      <th>1</th>\n",
       "      <td>Kobus Barnard</td>\n",
       "    </tr>\n",
       "    <tr>\n",
       "      <th>2</th>\n",
       "      <td>Eduardo  Blanco</td>\n",
       "    </tr>\n",
       "    <tr>\n",
       "      <th>3</th>\n",
       "      <td>Lei  Cao</td>\n",
       "    </tr>\n",
       "    <tr>\n",
       "      <th>4</th>\n",
       "      <td>David Claveau</td>\n",
       "    </tr>\n",
       "    <tr>\n",
       "      <th>5</th>\n",
       "      <td>Christian  Collberg</td>\n",
       "    </tr>\n",
       "    <tr>\n",
       "      <th>6</th>\n",
       "      <td>Saumya Debray</td>\n",
       "    </tr>\n",
       "    <tr>\n",
       "      <th>7</th>\n",
       "      <td>Benjamin Dicken</td>\n",
       "    </tr>\n",
       "    <tr>\n",
       "      <th>8</th>\n",
       "      <td>Alon Efrat</td>\n",
       "    </tr>\n",
       "    <tr>\n",
       "      <th>9</th>\n",
       "      <td>Mark Fischer</td>\n",
       "    </tr>\n",
       "    <tr>\n",
       "      <th>10</th>\n",
       "      <td>Kwang-Sung Jun</td>\n",
       "    </tr>\n",
       "    <tr>\n",
       "      <th>11</th>\n",
       "      <td>John  Kececioglu</td>\n",
       "    </tr>\n",
       "    <tr>\n",
       "      <th>12</th>\n",
       "      <td>Stephen Kobourov</td>\n",
       "    </tr>\n",
       "    <tr>\n",
       "      <th>13</th>\n",
       "      <td>Josh Levine</td>\n",
       "    </tr>\n",
       "    <tr>\n",
       "      <th>14</th>\n",
       "      <td>Russell Lewis</td>\n",
       "    </tr>\n",
       "    <tr>\n",
       "      <th>15</th>\n",
       "      <td>Melanie Lotz</td>\n",
       "    </tr>\n",
       "    <tr>\n",
       "      <th>16</th>\n",
       "      <td>David Lowenthal</td>\n",
       "    </tr>\n",
       "    <tr>\n",
       "      <th>17</th>\n",
       "      <td>Lester I. McCann</td>\n",
       "    </tr>\n",
       "    <tr>\n",
       "      <th>18</th>\n",
       "      <td>Rick Mercer</td>\n",
       "    </tr>\n",
       "    <tr>\n",
       "      <th>19</th>\n",
       "      <td>William Mitchell</td>\n",
       "    </tr>\n",
       "    <tr>\n",
       "      <th>20</th>\n",
       "      <td>Janalee O'bagy</td>\n",
       "    </tr>\n",
       "    <tr>\n",
       "      <th>21</th>\n",
       "      <td>Jason Pacheco</td>\n",
       "    </tr>\n",
       "    <tr>\n",
       "      <th>22</th>\n",
       "      <td>Adriana Picoral</td>\n",
       "    </tr>\n",
       "    <tr>\n",
       "      <th>23</th>\n",
       "      <td>Todd Proebsting</td>\n",
       "    </tr>\n",
       "    <tr>\n",
       "      <th>24</th>\n",
       "      <td>Sazzadur Rahaman</td>\n",
       "    </tr>\n",
       "    <tr>\n",
       "      <th>25</th>\n",
       "      <td>Ravi Sethi</td>\n",
       "    </tr>\n",
       "    <tr>\n",
       "      <th>26</th>\n",
       "      <td>Michelle Strout</td>\n",
       "    </tr>\n",
       "    <tr>\n",
       "      <th>27</th>\n",
       "      <td>Mihai  Surdeanu</td>\n",
       "    </tr>\n",
       "    <tr>\n",
       "      <th>28</th>\n",
       "      <td>Beichuan Zhang</td>\n",
       "    </tr>\n",
       "    <tr>\n",
       "      <th>29</th>\n",
       "      <td>Chicheng  Zhang</td>\n",
       "    </tr>\n",
       "  </tbody>\n",
       "</table>\n",
       "</div>"
      ],
      "text/plain": [
       "                   name\n",
       "0            Eric Anson\n",
       "1         Kobus Barnard\n",
       "2       Eduardo  Blanco\n",
       "3              Lei  Cao\n",
       "4         David Claveau\n",
       "5   Christian  Collberg\n",
       "6         Saumya Debray\n",
       "7       Benjamin Dicken\n",
       "8            Alon Efrat\n",
       "9          Mark Fischer\n",
       "10       Kwang-Sung Jun\n",
       "11     John  Kececioglu\n",
       "12     Stephen Kobourov\n",
       "13          Josh Levine\n",
       "14        Russell Lewis\n",
       "15         Melanie Lotz\n",
       "16      David Lowenthal\n",
       "17     Lester I. McCann\n",
       "18          Rick Mercer\n",
       "19     William Mitchell\n",
       "20       Janalee O'bagy\n",
       "21        Jason Pacheco\n",
       "22      Adriana Picoral\n",
       "23      Todd Proebsting\n",
       "24     Sazzadur Rahaman\n",
       "25           Ravi Sethi\n",
       "26      Michelle Strout\n",
       "27      Mihai  Surdeanu\n",
       "28       Beichuan Zhang\n",
       "29      Chicheng  Zhang"
      ]
     },
     "execution_count": 29,
     "metadata": {},
     "output_type": "execute_result"
    }
   ],
   "source": [
    "import pandas as pd\n",
    "df = pd.DataFrame(name_zip, columns=['name'])\n",
    "df"
   ]
  },
  {
   "cell_type": "markdown",
   "id": "58bc22a5",
   "metadata": {},
   "source": [
    "#Creating csv file"
   ]
  },
  {
   "cell_type": "code",
   "execution_count": 30,
   "id": "e5ad7dc2",
   "metadata": {},
   "outputs": [],
   "source": [
    "df.to_csv('Faculty_list.csv', index=False)"
   ]
  },
  {
   "cell_type": "code",
   "execution_count": 31,
   "id": "caf8324f",
   "metadata": {},
   "outputs": [
    {
     "data": {
      "text/html": [
       "<div>\n",
       "<style scoped>\n",
       "    .dataframe tbody tr th:only-of-type {\n",
       "        vertical-align: middle;\n",
       "    }\n",
       "\n",
       "    .dataframe tbody tr th {\n",
       "        vertical-align: top;\n",
       "    }\n",
       "\n",
       "    .dataframe thead th {\n",
       "        text-align: right;\n",
       "    }\n",
       "</style>\n",
       "<table border=\"1\" class=\"dataframe\">\n",
       "  <thead>\n",
       "    <tr style=\"text-align: right;\">\n",
       "      <th></th>\n",
       "      <th>name</th>\n",
       "    </tr>\n",
       "  </thead>\n",
       "  <tbody>\n",
       "    <tr>\n",
       "      <th>0</th>\n",
       "      <td>Eric Anson</td>\n",
       "    </tr>\n",
       "    <tr>\n",
       "      <th>1</th>\n",
       "      <td>Kobus Barnard</td>\n",
       "    </tr>\n",
       "    <tr>\n",
       "      <th>2</th>\n",
       "      <td>Eduardo  Blanco</td>\n",
       "    </tr>\n",
       "    <tr>\n",
       "      <th>3</th>\n",
       "      <td>Lei  Cao</td>\n",
       "    </tr>\n",
       "    <tr>\n",
       "      <th>4</th>\n",
       "      <td>David Claveau</td>\n",
       "    </tr>\n",
       "    <tr>\n",
       "      <th>5</th>\n",
       "      <td>Christian  Collberg</td>\n",
       "    </tr>\n",
       "    <tr>\n",
       "      <th>6</th>\n",
       "      <td>Saumya Debray</td>\n",
       "    </tr>\n",
       "    <tr>\n",
       "      <th>7</th>\n",
       "      <td>Benjamin Dicken</td>\n",
       "    </tr>\n",
       "    <tr>\n",
       "      <th>8</th>\n",
       "      <td>Alon Efrat</td>\n",
       "    </tr>\n",
       "    <tr>\n",
       "      <th>9</th>\n",
       "      <td>Mark Fischer</td>\n",
       "    </tr>\n",
       "    <tr>\n",
       "      <th>10</th>\n",
       "      <td>Kwang-Sung Jun</td>\n",
       "    </tr>\n",
       "    <tr>\n",
       "      <th>11</th>\n",
       "      <td>John  Kececioglu</td>\n",
       "    </tr>\n",
       "    <tr>\n",
       "      <th>12</th>\n",
       "      <td>Stephen Kobourov</td>\n",
       "    </tr>\n",
       "    <tr>\n",
       "      <th>13</th>\n",
       "      <td>Josh Levine</td>\n",
       "    </tr>\n",
       "    <tr>\n",
       "      <th>14</th>\n",
       "      <td>Russell Lewis</td>\n",
       "    </tr>\n",
       "    <tr>\n",
       "      <th>15</th>\n",
       "      <td>Melanie Lotz</td>\n",
       "    </tr>\n",
       "    <tr>\n",
       "      <th>16</th>\n",
       "      <td>David Lowenthal</td>\n",
       "    </tr>\n",
       "    <tr>\n",
       "      <th>17</th>\n",
       "      <td>Lester I. McCann</td>\n",
       "    </tr>\n",
       "    <tr>\n",
       "      <th>18</th>\n",
       "      <td>Rick Mercer</td>\n",
       "    </tr>\n",
       "    <tr>\n",
       "      <th>19</th>\n",
       "      <td>William Mitchell</td>\n",
       "    </tr>\n",
       "    <tr>\n",
       "      <th>20</th>\n",
       "      <td>Janalee O'bagy</td>\n",
       "    </tr>\n",
       "    <tr>\n",
       "      <th>21</th>\n",
       "      <td>Jason Pacheco</td>\n",
       "    </tr>\n",
       "    <tr>\n",
       "      <th>22</th>\n",
       "      <td>Adriana Picoral</td>\n",
       "    </tr>\n",
       "    <tr>\n",
       "      <th>23</th>\n",
       "      <td>Todd Proebsting</td>\n",
       "    </tr>\n",
       "    <tr>\n",
       "      <th>24</th>\n",
       "      <td>Sazzadur Rahaman</td>\n",
       "    </tr>\n",
       "    <tr>\n",
       "      <th>25</th>\n",
       "      <td>Ravi Sethi</td>\n",
       "    </tr>\n",
       "    <tr>\n",
       "      <th>26</th>\n",
       "      <td>Michelle Strout</td>\n",
       "    </tr>\n",
       "    <tr>\n",
       "      <th>27</th>\n",
       "      <td>Mihai  Surdeanu</td>\n",
       "    </tr>\n",
       "    <tr>\n",
       "      <th>28</th>\n",
       "      <td>Beichuan Zhang</td>\n",
       "    </tr>\n",
       "    <tr>\n",
       "      <th>29</th>\n",
       "      <td>Chicheng  Zhang</td>\n",
       "    </tr>\n",
       "  </tbody>\n",
       "</table>\n",
       "</div>"
      ],
      "text/plain": [
       "                   name\n",
       "0            Eric Anson\n",
       "1         Kobus Barnard\n",
       "2       Eduardo  Blanco\n",
       "3              Lei  Cao\n",
       "4         David Claveau\n",
       "5   Christian  Collberg\n",
       "6         Saumya Debray\n",
       "7       Benjamin Dicken\n",
       "8            Alon Efrat\n",
       "9          Mark Fischer\n",
       "10       Kwang-Sung Jun\n",
       "11     John  Kececioglu\n",
       "12     Stephen Kobourov\n",
       "13          Josh Levine\n",
       "14        Russell Lewis\n",
       "15         Melanie Lotz\n",
       "16      David Lowenthal\n",
       "17     Lester I. McCann\n",
       "18          Rick Mercer\n",
       "19     William Mitchell\n",
       "20       Janalee O'bagy\n",
       "21        Jason Pacheco\n",
       "22      Adriana Picoral\n",
       "23      Todd Proebsting\n",
       "24     Sazzadur Rahaman\n",
       "25           Ravi Sethi\n",
       "26      Michelle Strout\n",
       "27      Mihai  Surdeanu\n",
       "28       Beichuan Zhang\n",
       "29      Chicheng  Zhang"
      ]
     },
     "execution_count": 31,
     "metadata": {},
     "output_type": "execute_result"
    }
   ],
   "source": [
    "saved = pd.read_csv('Faculty_list.csv')\n",
    "saved"
   ]
  },
  {
   "cell_type": "code",
   "execution_count": null,
   "id": "7735767a",
   "metadata": {},
   "outputs": [],
   "source": []
  }
 ],
 "metadata": {
  "kernelspec": {
   "display_name": "Python 3",
   "language": "python",
   "name": "python3"
  },
  "language_info": {
   "codemirror_mode": {
    "name": "ipython",
    "version": 3
   },
   "file_extension": ".py",
   "mimetype": "text/x-python",
   "name": "python",
   "nbconvert_exporter": "python",
   "pygments_lexer": "ipython3",
   "version": "3.8.8"
  }
 },
 "nbformat": 4,
 "nbformat_minor": 5
}
